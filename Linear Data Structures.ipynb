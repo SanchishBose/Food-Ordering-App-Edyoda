{
  "nbformat": 4,
  "nbformat_minor": 0,
  "metadata": {
    "colab": {
      "provenance": [],
      "authorship_tag": "ABX9TyMa6HMy+PgUmm5UbBt+pq4c",
      "include_colab_link": true
    },
    "kernelspec": {
      "name": "python3",
      "display_name": "Python 3"
    },
    "language_info": {
      "name": "python"
    }
  },
  "cells": [
    {
      "cell_type": "markdown",
      "metadata": {
        "id": "view-in-github",
        "colab_type": "text"
      },
      "source": [
        "<a href=\"https://colab.research.google.com/github/SanchishBose/Food-Ordering-App-Edyoda/blob/main/Linear%20Data%20Structures.ipynb\" target=\"_parent\"><img src=\"https://colab.research.google.com/assets/colab-badge.svg\" alt=\"Open In Colab\"/></a>"
      ]
    },
    {
      "cell_type": "code",
      "execution_count": 1,
      "metadata": {
        "colab": {
          "base_uri": "https://localhost:8080/"
        },
        "id": "HweTN9lNriEu",
        "outputId": "b96a1fb7-8a41-44af-8f39-1542b2cfb5d5"
      },
      "outputs": [
        {
          "output_type": "stream",
          "name": "stdout",
          "text": [
            "Enter an integer array (space-separated): 1 1 1 2 3 4 5 6 6 7 7 77 8 5 66 54 5 64 5 45 6 7 5 45 6 7 8 6 55 6 7 7 55 45 656 54 57 54 5667 4 6 4 6 5465 456 45634 5634 56346 3563 5634 34 563 456 3456 3456 346 345 634 563 456 45 4 54 5 45 4 5 45 64 56 456 4 5  45 56634 3 456 4 54 56 567 45 78458562 4 51 235 3 634  54\n",
            "Enter the target sum: 120\n",
            "Pairs: [(54, 66), (54, 66), (54, 66), (54, 66), (56, 64), (54, 66), (56, 64), (54, 66)]\n"
          ]
        }
      ],
      "source": [
        "#Q1. Write a program to find all pairs of an integer array whose sum is equal to a given number?\n",
        "\n",
        "def find_pairs(arr, target):\n",
        "    pairs = []\n",
        "    seen = set()\n",
        "\n",
        "    for num in arr:\n",
        "        complement = target - num\n",
        "        if complement in seen:\n",
        "            pairs.append((num, complement))\n",
        "        seen.add(num)\n",
        "\n",
        "    return pairs\n",
        "\n",
        "arr = list(map(int, input(\"Enter an integer array (space-separated): \").split()))\n",
        "target = int(input(\"Enter the target sum: \"))\n",
        "result = find_pairs(arr, target)\n",
        "print(\"Pairs:\", result)\n"
      ]
    },
    {
      "cell_type": "code",
      "source": [
        "#Q2. Write a program to reverse an array in place? In place means you cannot create a new array. You have to update the original array.\n",
        "\n",
        "def reverse_array(arr):\n",
        "    start = 0\n",
        "    end = len(arr) - 1\n",
        "\n",
        "    while start < end:\n",
        "        arr[start], arr[end] = arr[end], arr[start]\n",
        "        start += 1\n",
        "        end -= 1\n",
        "\n",
        "arr = list(map(int, input(\"Enter an integer array (space-separated): \").split()))\n",
        "reverse_array(arr)\n",
        "print(\"Reversed Array:\", arr)"
      ],
      "metadata": {
        "colab": {
          "base_uri": "https://localhost:8080/"
        },
        "id": "SDb0njVdsVI8",
        "outputId": "9d30914e-2a14-4a82-bc58-e10bec59f91e"
      },
      "execution_count": 2,
      "outputs": [
        {
          "output_type": "stream",
          "name": "stdout",
          "text": [
            "Enter an integer array (space-separated): 1 2 3 4 5 6 6 7 7 77 8 5 66 54 5 64 5 45 6 7 5 45 6 7 8 6 55 6 7 7 55 45 656 54 57 54\n",
            "Reversed Array: [54, 57, 54, 656, 45, 55, 7, 7, 6, 55, 6, 8, 7, 6, 45, 5, 7, 6, 45, 5, 64, 5, 54, 66, 5, 8, 77, 7, 7, 6, 6, 5, 4, 3, 2, 1]\n"
          ]
        }
      ]
    },
    {
      "cell_type": "code",
      "source": [
        "#Q3. Write a program to check if two strings are a rotation of each other?\n",
        "\n",
        "def are_rotations(str1, str2):\n",
        "    if len(str1) != len(str2):\n",
        "        return False\n",
        "\n",
        "    temp = str1 + str1\n",
        "    if str2 in temp:\n",
        "        return True\n",
        "    else:\n",
        "        return False\n",
        "\n",
        "str1 = input(\"Enter the first string: \")\n",
        "str2 = input(\"Enter the second string: \")\n",
        "result = are_rotations(str1, str2)\n",
        "print(\"Are they rotations of each other?\", result)\n"
      ],
      "metadata": {
        "colab": {
          "base_uri": "https://localhost:8080/"
        },
        "id": "1sF9QmCvse_u",
        "outputId": "9da95c25-951d-4571-e9d2-3ba62ba03ca1"
      },
      "execution_count": 5,
      "outputs": [
        {
          "output_type": "stream",
          "name": "stdout",
          "text": [
            "Enter the first string: War\n",
            "Enter the second string: Raw\n",
            "Are they rotations of each other? False\n"
          ]
        }
      ]
    },
    {
      "cell_type": "code",
      "source": [
        "#Q4. Write a program to print the first non-repeated character from a string?\n",
        "\n",
        "def first_non_repeated_char(s):\n",
        "    char_count = {}\n",
        "    for char in s:\n",
        "        if char in char_count:\n",
        "            char_count[char] += 1\n",
        "        else:\n",
        "            char_count[char] = 1\n",
        "\n",
        "    for char in s:\n",
        "        if char_count[char] == 1:\n",
        "            return char\n",
        "    return None\n",
        "\n",
        "input_str = input(\"Enter a string: \")\n",
        "result = first_non_repeated_char(input_str)\n",
        "print(\"First non-repeated character:\", result)"
      ],
      "metadata": {
        "colab": {
          "base_uri": "https://localhost:8080/"
        },
        "id": "qTkD7mZ0tMNB",
        "outputId": "dac49244-c60e-4859-fc02-cb40042c7540"
      },
      "execution_count": 7,
      "outputs": [
        {
          "output_type": "stream",
          "name": "stdout",
          "text": [
            "Enter a string: Sanchish Sanchita\n",
            "First non-repeated character: s\n"
          ]
        }
      ]
    },
    {
      "cell_type": "code",
      "source": [
        "#Q5. Read about the Tower of Hanoi algorithm. Write a program to implement it.\n",
        "\n",
        "def tower_of_hanoi(n, source, auxiliary, target):\n",
        "    if n == 1:\n",
        "        print(f\"Move disk 1 from {source} to {target}\")\n",
        "        return\n",
        "    tower_of_hanoi(n - 1, source, target, auxiliary)\n",
        "    print(f\"Move disk {n} from {source} to {target}\")\n",
        "    tower_of_hanoi(n - 1, auxiliary, source, target)\n",
        "\n",
        "num_disks = int(input(\"Enter the number of disks: \"))\n",
        "tower_of_hanoi(num_disks, 'A', 'B', 'C')\n"
      ],
      "metadata": {
        "colab": {
          "base_uri": "https://localhost:8080/"
        },
        "id": "iEh_EBsOtiKr",
        "outputId": "e0d8ab8a-91f8-406e-ef05-a674393be2a8"
      },
      "execution_count": 8,
      "outputs": [
        {
          "output_type": "stream",
          "name": "stdout",
          "text": [
            "Enter the number of disks: 2\n",
            "Move disk 1 from A to B\n",
            "Move disk 2 from A to C\n",
            "Move disk 1 from B to C\n"
          ]
        }
      ]
    },
    {
      "cell_type": "code",
      "source": [
        "#Q6.Read about infix, prefix, and postfix expressions. Write a program to convert postfix to prefix expression.\n",
        "\n",
        "def postfix_to_prefix(expression):\n",
        "    stack = []\n",
        "    operators = set(['+', '-', '*', '/'])\n",
        "\n",
        "    for token in expression:\n",
        "        if token not in operators:\n",
        "            stack.append(token)\n",
        "        else:\n",
        "            operand2 = stack.pop()\n",
        "            operand1 = stack.pop()\n",
        "            prefix = token + operand1 + operand2\n",
        "            stack.append(prefix)\n",
        "\n",
        "    return stack[0]\n",
        "\n",
        "postfix_expression = input(\"Enter a postfix expression: \")\n",
        "prefix_expression = postfix_to_prefix(postfix_expression)\n",
        "print(\"Prefix expression:\", prefix_expression)"
      ],
      "metadata": {
        "colab": {
          "base_uri": "https://localhost:8080/"
        },
        "id": "E9Am59CCtv2g",
        "outputId": "a6fb1b51-acc2-4df4-d98d-d6ff1b677788"
      },
      "execution_count": 9,
      "outputs": [
        {
          "output_type": "stream",
          "name": "stdout",
          "text": [
            "Enter a postfix expression: San+/\n",
            "Prefix expression: /S+an\n"
          ]
        }
      ]
    },
    {
      "cell_type": "code",
      "source": [
        "#Q7. Write a program to convert prefix expression to infix expression.\n",
        "\n",
        "def prefix_to_infix(expression):\n",
        "    stack = []\n",
        "    operators = set(['+', '-', '*', '/'])\n",
        "\n",
        "    for token in reversed(expression):\n",
        "        if token not in operators:\n",
        "            stack.append(token)\n",
        "        else:\n",
        "            operand1 = stack.pop()\n",
        "            operand2 = stack.pop()\n",
        "            infix = \"(\" + operand1 + token + operand2 + \")\"\n",
        "            stack.append(infix)\n",
        "\n",
        "    return stack[0]\n",
        "\n",
        "prefix_expression = input(\"Enter a prefix expression: \")\n",
        "infix_expression = prefix_to_infix(prefix_expression)\n",
        "print(\"Infix expression:\", infix_expression)"
      ],
      "metadata": {
        "colab": {
          "base_uri": "https://localhost:8080/"
        },
        "id": "JszYxBp9uGcH",
        "outputId": "2b26917d-f118-4b0b-98df-7f870eff6a7a"
      },
      "execution_count": 13,
      "outputs": [
        {
          "output_type": "stream",
          "name": "stdout",
          "text": [
            "Enter a prefix expression: /S+an\n",
            "Infix expression: (S/(a+n))\n"
          ]
        }
      ]
    },
    {
      "cell_type": "code",
      "source": [
        "#Q8. Write a program to check if all the brackets are closed in a given code snippet.\n",
        "\n",
        "def check_brackets(code):\n",
        "    stack = []\n",
        "\n",
        "    for char in code:\n",
        "        if char in \"({[\":\n",
        "            stack.append(char)\n",
        "        elif char in \")}]\":\n",
        "            if not stack:\n",
        "                return False\n",
        "            top = stack.pop()\n",
        "            if (char == ')' and top != '(') or \\\n",
        "               (char == '}' and top != '{') or \\\n",
        "               (char == ']' and top != '['):\n",
        "                return False\n",
        "\n",
        "    return len(stack) == 0\n",
        "\n",
        "code_snippet = input(\"Enter a code snippet: \")\n",
        "result = check_brackets(code_snippet)\n",
        "if result:\n",
        "    print(\"All brackets are closed properly.\")\n",
        "else:\n",
        "    print(\"Brackets are not closed properly.\")"
      ],
      "metadata": {
        "colab": {
          "base_uri": "https://localhost:8080/"
        },
        "id": "yRXg9WCtu4vK",
        "outputId": "a5afc5b3-a206-4347-aaa6-e1cff6bf4d06"
      },
      "execution_count": 14,
      "outputs": [
        {
          "output_type": "stream",
          "name": "stdout",
          "text": [
            "Enter a code snippet: hey(Whats Up)\n",
            "All brackets are closed properly.\n"
          ]
        }
      ]
    },
    {
      "cell_type": "code",
      "source": [
        "#Q9. Write a program to reverse a stack.\n",
        "\n",
        "def reverse_stack(stack):\n",
        "    if not stack:\n",
        "        return\n",
        "    temp = stack.pop()\n",
        "    reverse_stack(stack)\n",
        "    insert_at_bottom(stack, temp)\n",
        "\n",
        "def insert_at_bottom(stack, item):\n",
        "    if not stack:\n",
        "        stack.append(item)\n",
        "        return\n",
        "    temp = stack.pop()\n",
        "    insert_at_bottom(stack, item)\n",
        "    stack.append(temp)\n",
        "\n",
        "stack = list(map(int, input(\"Enter elements of the stack (space-separated): \").split()))\n",
        "reverse_stack(stack)\n",
        "print(\"Reversed stack:\", stack)"
      ],
      "metadata": {
        "colab": {
          "base_uri": "https://localhost:8080/"
        },
        "id": "xGiq4sc3vQVr",
        "outputId": "a3c23d3e-3ea6-4d96-8d96-c58ea090923d"
      },
      "execution_count": 15,
      "outputs": [
        {
          "output_type": "stream",
          "name": "stdout",
          "text": [
            "Enter elements of the stack (space-separated): 7 7778 8887 8 88\n",
            "Reversed stack: [88, 8, 8887, 7778, 7]\n"
          ]
        }
      ]
    },
    {
      "cell_type": "code",
      "source": [
        "#Q10. Write a program to find the smallest number using a stack.\n",
        "\n",
        "def find_smallest_number(stack):\n",
        "    if not stack:\n",
        "        return None\n",
        "    min_num = stack.pop()\n",
        "    while stack:\n",
        "        num = stack.pop()\n",
        "        min_num = min(min_num, num)\n",
        "    return min_num\n",
        "\n",
        "stack = list(map(int, input(\"Enter elements of the stack (space-separated): \").split()))\n",
        "smallest_number = find_smallest_number(stack)\n",
        "if smallest_number is not None:\n",
        "    print(\"Smallest number in the stack:\", smallest_number)\n",
        "else:\n",
        "    print(\"Stack is empty.\")"
      ],
      "metadata": {
        "colab": {
          "base_uri": "https://localhost:8080/"
        },
        "id": "jMwnGJvhvgtt",
        "outputId": "fcb96444-2058-4219-df86-01189be454d8"
      },
      "execution_count": 16,
      "outputs": [
        {
          "output_type": "stream",
          "name": "stdout",
          "text": [
            "Enter elements of the stack (space-separated): 7 88 777777 6666 33433 97 8 1 111\n",
            "Smallest number in the stack: 1\n"
          ]
        }
      ]
    }
  ]
}